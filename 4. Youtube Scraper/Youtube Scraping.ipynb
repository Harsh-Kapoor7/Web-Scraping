{
 "cells": [
  {
   "cell_type": "code",
   "execution_count": 2,
   "id": "3836c61e",
   "metadata": {},
   "outputs": [],
   "source": [
    "import selenium\n",
    "from selenium import webdriver\n",
    "import chromedriver_binary\n",
    "from bs4 import BeautifulSoup\n",
    "import pandas as pd"
   ]
  },
  {
   "cell_type": "code",
   "execution_count": 3,
   "id": "cdd72017",
   "metadata": {},
   "outputs": [
    {
     "name": "stderr",
     "output_type": "stream",
     "text": [
      "C:\\Users\\HARSHK~1\\AppData\\Local\\Temp/ipykernel_1284/1320415639.py:1: DeprecationWarning: executable_path has been deprecated, please pass in a Service object\n",
      "  browser = webdriver.Chrome(chromedriver_binary.chromedriver_filename)\n"
     ]
    }
   ],
   "source": [
    "browser = webdriver.Chrome(chromedriver_binary.chromedriver_filename)"
   ]
  },
  {
   "cell_type": "code",
   "execution_count": 4,
   "id": "cfaa6702",
   "metadata": {},
   "outputs": [],
   "source": [
    "browser.get('https://www.youtube.com/c/GeeksforGeeksVideos/videos')\n",
    "soup = BeautifulSoup(browser.page_source, 'html.parser')"
   ]
  },
  {
   "cell_type": "code",
   "execution_count": 5,
   "id": "6d46dbbb",
   "metadata": {},
   "outputs": [],
   "source": [
    "lst = []\n",
    "\n",
    "for sp in soup.find_all('ytd-rich-item-renderer'):\n",
    "      \n",
    "    title    = sp.find('a', id = 'video-title-link').get('aria-label').split('|')[0]\n",
    "    views    = sp.find('span', class_ = 'inline-metadata-item style-scope ytd-video-meta-block').text\n",
    "    length   = sp.find('span').text.replace('\\n', '')\n",
    "    date     = sp.find_all('span', class_ = \"inline-metadata-item style-scope ytd-video-meta-block\")[1].text\n",
    "    try:\n",
    "        thumbnail = sp.find('img', class_ = 'yt-core-image--fill-parent-height yt-core-image--fill-parent-width yt-core-image yt-core-image--content-mode-scale-aspect-fill yt-core-image--loaded').get('src')\n",
    "    except:\n",
    "        thumbnail = None\n",
    "    video_id = sp.find('a', id = 'video-title-link').get('href')\n",
    "\n",
    "    \n",
    "    lst.append([title, views, length, date, thumbnail, video_id])"
   ]
  },
  {
   "cell_type": "code",
   "execution_count": 6,
   "id": "9dd7c851",
   "metadata": {},
   "outputs": [
    {
     "data": {
      "text/html": [
       "<div>\n",
       "<style scoped>\n",
       "    .dataframe tbody tr th:only-of-type {\n",
       "        vertical-align: middle;\n",
       "    }\n",
       "\n",
       "    .dataframe tbody tr th {\n",
       "        vertical-align: top;\n",
       "    }\n",
       "\n",
       "    .dataframe thead th {\n",
       "        text-align: right;\n",
       "    }\n",
       "</style>\n",
       "<table border=\"1\" class=\"dataframe\">\n",
       "  <thead>\n",
       "    <tr style=\"text-align: right;\">\n",
       "      <th></th>\n",
       "      <th>Title</th>\n",
       "      <th>Views</th>\n",
       "      <th>Length</th>\n",
       "      <th>Date</th>\n",
       "      <th>Thumbnail</th>\n",
       "      <th>Video_ID</th>\n",
       "    </tr>\n",
       "  </thead>\n",
       "  <tbody>\n",
       "    <tr>\n",
       "      <th>0</th>\n",
       "      <td>Apache Beam 60 Seconds Crash Course</td>\n",
       "      <td>534 views</td>\n",
       "      <td>1:03</td>\n",
       "      <td>2 days ago</td>\n",
       "      <td>https://i.ytimg.com/vi/PjSA0Ru7_rI/hqdefault.j...</td>\n",
       "      <td>/watch?v=PjSA0Ru7_rI</td>\n",
       "    </tr>\n",
       "    <tr>\n",
       "      <th>1</th>\n",
       "      <td>Data Lake 60 Seconds Crash Course</td>\n",
       "      <td>551 views</td>\n",
       "      <td>1:03</td>\n",
       "      <td>3 days ago</td>\n",
       "      <td>https://i.ytimg.com/vi/KGD-T3bhFEA/hqdefault.j...</td>\n",
       "      <td>/watch?v=KGD-T3bhFEA</td>\n",
       "    </tr>\n",
       "    <tr>\n",
       "      <th>2</th>\n",
       "      <td>Choosing the Right Cloud Provider</td>\n",
       "      <td>714 views</td>\n",
       "      <td>3:10</td>\n",
       "      <td>6 days ago</td>\n",
       "      <td>https://i.ytimg.com/vi/YbPnhezNaUE/hqdefault.j...</td>\n",
       "      <td>/watch?v=YbPnhezNaUE</td>\n",
       "    </tr>\n",
       "    <tr>\n",
       "      <th>3</th>\n",
       "      <td>A Journey from NOKIA to PAYPAL</td>\n",
       "      <td>1.4K views</td>\n",
       "      <td>13:12</td>\n",
       "      <td>8 days ago</td>\n",
       "      <td>https://i.ytimg.com/vi/6UUTPA0l748/hqdefault.j...</td>\n",
       "      <td>/watch?v=6UUTPA0l748</td>\n",
       "    </tr>\n",
       "    <tr>\n",
       "      <th>4</th>\n",
       "      <td>Make Best Team For ICC Cricket World 2023</td>\n",
       "      <td>384 views</td>\n",
       "      <td>23:05</td>\n",
       "      <td>10 days ago</td>\n",
       "      <td>https://i.ytimg.com/vi/ItY3minkI3o/hqdefault.j...</td>\n",
       "      <td>/watch?v=ItY3minkI3o</td>\n",
       "    </tr>\n",
       "  </tbody>\n",
       "</table>\n",
       "</div>"
      ],
      "text/plain": [
       "                                        Title       Views       Length  \\\n",
       "0        Apache Beam 60 Seconds Crash Course    534 views       1:03     \n",
       "1          Data Lake 60 Seconds Crash Course    551 views       1:03     \n",
       "2          Choosing the Right Cloud Provider    714 views       3:10     \n",
       "3             A Journey from NOKIA to PAYPAL   1.4K views      13:12     \n",
       "4  Make Best Team For ICC Cricket World 2023    384 views      23:05     \n",
       "\n",
       "          Date                                          Thumbnail  \\\n",
       "0   2 days ago  https://i.ytimg.com/vi/PjSA0Ru7_rI/hqdefault.j...   \n",
       "1   3 days ago  https://i.ytimg.com/vi/KGD-T3bhFEA/hqdefault.j...   \n",
       "2   6 days ago  https://i.ytimg.com/vi/YbPnhezNaUE/hqdefault.j...   \n",
       "3   8 days ago  https://i.ytimg.com/vi/6UUTPA0l748/hqdefault.j...   \n",
       "4  10 days ago  https://i.ytimg.com/vi/ItY3minkI3o/hqdefault.j...   \n",
       "\n",
       "               Video_ID  \n",
       "0  /watch?v=PjSA0Ru7_rI  \n",
       "1  /watch?v=KGD-T3bhFEA  \n",
       "2  /watch?v=YbPnhezNaUE  \n",
       "3  /watch?v=6UUTPA0l748  \n",
       "4  /watch?v=ItY3minkI3o  "
      ]
     },
     "execution_count": 6,
     "metadata": {},
     "output_type": "execute_result"
    }
   ],
   "source": [
    "df = pd.DataFrame(lst, columns = ['Title', 'Views', 'Length', 'Date', 'Thumbnail', 'Video_ID'])\n",
    "df.head()"
   ]
  },
  {
   "cell_type": "code",
   "execution_count": null,
   "id": "510b7fe0",
   "metadata": {},
   "outputs": [],
   "source": []
  },
  {
   "cell_type": "code",
   "execution_count": 7,
   "id": "19bfc31f",
   "metadata": {},
   "outputs": [],
   "source": [
    "for link in df['Video_ID']:\n",
    "    link = 'https://www.youtube.com' + link\n",
    "    browser.get(link)\n",
    "    \n",
    "    break\n",
    "\n",
    "soup = BeautifulSoup(browser.page_source, 'html.parser')"
   ]
  },
  {
   "cell_type": "code",
   "execution_count": 8,
   "id": "77330995",
   "metadata": {},
   "outputs": [],
   "source": [
    "views = soup.find_all('span', class_ = 'style-scope yt-formatted-string bold')"
   ]
  },
  {
   "cell_type": "code",
   "execution_count": 9,
   "id": "d22c516c",
   "metadata": {},
   "outputs": [
    {
     "data": {
      "text/plain": [
       "[]"
      ]
     },
     "execution_count": 9,
     "metadata": {},
     "output_type": "execute_result"
    }
   ],
   "source": [
    "views"
   ]
  },
  {
   "cell_type": "code",
   "execution_count": null,
   "id": "38a83827",
   "metadata": {},
   "outputs": [],
   "source": []
  },
  {
   "cell_type": "code",
   "execution_count": null,
   "id": "fb3890f5",
   "metadata": {},
   "outputs": [],
   "source": []
  }
 ],
 "metadata": {
  "kernelspec": {
   "display_name": "Python 3 (ipykernel)",
   "language": "python",
   "name": "python3"
  },
  "language_info": {
   "codemirror_mode": {
    "name": "ipython",
    "version": 3
   },
   "file_extension": ".py",
   "mimetype": "text/x-python",
   "name": "python",
   "nbconvert_exporter": "python",
   "pygments_lexer": "ipython3",
   "version": "3.9.7"
  }
 },
 "nbformat": 4,
 "nbformat_minor": 5
}
