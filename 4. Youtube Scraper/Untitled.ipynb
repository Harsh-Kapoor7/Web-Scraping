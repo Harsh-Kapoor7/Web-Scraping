{
 "cells": [
  {
   "cell_type": "code",
   "execution_count": 21,
   "id": "5e01164f",
   "metadata": {},
   "outputs": [],
   "source": [
    "import pandas as pd\n",
    "from bs4 import BeautifulSoup\n",
    "from selenium import webdriver\n",
    "import chromedriver_binary"
   ]
  },
  {
   "cell_type": "code",
   "execution_count": 22,
   "id": "e70e0be3",
   "metadata": {},
   "outputs": [
    {
     "data": {
      "text/html": [
       "<div>\n",
       "<style scoped>\n",
       "    .dataframe tbody tr th:only-of-type {\n",
       "        vertical-align: middle;\n",
       "    }\n",
       "\n",
       "    .dataframe tbody tr th {\n",
       "        vertical-align: top;\n",
       "    }\n",
       "\n",
       "    .dataframe thead th {\n",
       "        text-align: right;\n",
       "    }\n",
       "</style>\n",
       "<table border=\"1\" class=\"dataframe\">\n",
       "  <thead>\n",
       "    <tr style=\"text-align: right;\">\n",
       "      <th></th>\n",
       "      <th>Title</th>\n",
       "      <th>Date</th>\n",
       "      <th>Video_link</th>\n",
       "      <th>Length</th>\n",
       "      <th>Views</th>\n",
       "      <th>thumbnail</th>\n",
       "    </tr>\n",
       "  </thead>\n",
       "  <tbody>\n",
       "    <tr>\n",
       "      <th>0</th>\n",
       "      <td>Apache Beam 60 Seconds Crash Course</td>\n",
       "      <td>2 days ago</td>\n",
       "      <td>https://www.youtube.com/watch?v=PjSA0Ru7_rI</td>\n",
       "      <td>1:03</td>\n",
       "      <td>532 views</td>\n",
       "      <td>https://i.ytimg.com/vi/PjSA0Ru7_rI/hqdefault.j...</td>\n",
       "    </tr>\n",
       "    <tr>\n",
       "      <th>1</th>\n",
       "      <td>Data Lake 60 Seconds Crash Course</td>\n",
       "      <td>3 days ago</td>\n",
       "      <td>https://www.youtube.com/watch?v=KGD-T3bhFEA</td>\n",
       "      <td>1:03</td>\n",
       "      <td>552 views</td>\n",
       "      <td>https://i.ytimg.com/vi/KGD-T3bhFEA/hqdefault.j...</td>\n",
       "    </tr>\n",
       "    <tr>\n",
       "      <th>2</th>\n",
       "      <td>Choosing the Right Cloud Provider</td>\n",
       "      <td>6 days ago</td>\n",
       "      <td>https://www.youtube.com/watch?v=YbPnhezNaUE</td>\n",
       "      <td>3:10</td>\n",
       "      <td>714 views</td>\n",
       "      <td>https://i.ytimg.com/vi/YbPnhezNaUE/hqdefault.j...</td>\n",
       "    </tr>\n",
       "  </tbody>\n",
       "</table>\n",
       "</div>"
      ],
      "text/plain": [
       "                                  Title        Date  \\\n",
       "0  Apache Beam 60 Seconds Crash Course   2 days ago   \n",
       "1    Data Lake 60 Seconds Crash Course   3 days ago   \n",
       "2    Choosing the Right Cloud Provider   6 days ago   \n",
       "\n",
       "                                    Video_link Length      Views  \\\n",
       "0  https://www.youtube.com/watch?v=PjSA0Ru7_rI   1:03  532 views   \n",
       "1  https://www.youtube.com/watch?v=KGD-T3bhFEA   1:03  552 views   \n",
       "2  https://www.youtube.com/watch?v=YbPnhezNaUE   3:10  714 views   \n",
       "\n",
       "                                           thumbnail  \n",
       "0  https://i.ytimg.com/vi/PjSA0Ru7_rI/hqdefault.j...  \n",
       "1  https://i.ytimg.com/vi/KGD-T3bhFEA/hqdefault.j...  \n",
       "2  https://i.ytimg.com/vi/YbPnhezNaUE/hqdefault.j...  "
      ]
     },
     "execution_count": 22,
     "metadata": {},
     "output_type": "execute_result"
    }
   ],
   "source": [
    "df = pd.read_csv('Channel_data.csv')\n",
    "df.head(3)"
   ]
  },
  {
   "cell_type": "code",
   "execution_count": 23,
   "id": "d90d5056",
   "metadata": {},
   "outputs": [
    {
     "name": "stderr",
     "output_type": "stream",
     "text": [
      "C:\\Users\\HARSHK~1\\AppData\\Local\\Temp/ipykernel_10612/3924309519.py:1: DeprecationWarning: executable_path has been deprecated, please pass in a Service object\n",
      "  browser = webdriver.Chrome(chromedriver_binary.chromedriver_filename)\n"
     ]
    }
   ],
   "source": [
    "browser = webdriver.Chrome(chromedriver_binary.chromedriver_filename)\n",
    "# browser.get('https://www.youtube.com/watch?v=ohS06vkHjLE')"
   ]
  },
  {
   "cell_type": "code",
   "execution_count": 28,
   "id": "a011d62b",
   "metadata": {},
   "outputs": [],
   "source": [
    "browser.get('https://www.youtube.com/watch?v=KGD-T3bhFEA')"
   ]
  },
  {
   "cell_type": "code",
   "execution_count": 29,
   "id": "5284bab9",
   "metadata": {},
   "outputs": [],
   "source": [
    "soup = BeautifulSoup(browser.page_source, 'html.parser')"
   ]
  },
  {
   "cell_type": "markdown",
   "id": "9a0e8eb1",
   "metadata": {},
   "source": [
    "title, views, date, subscribers, description"
   ]
  },
  {
   "cell_type": "code",
   "execution_count": 30,
   "id": "999aaecf",
   "metadata": {},
   "outputs": [],
   "source": [
    "data = []\n",
    "    \n",
    "title       = soup.find('yt-formatted-string', class_ = 'style-scope ytd-watch-metadata').text.split('|')[0]\n",
    "views       = soup.find_all('span', dir = 'auto')[0].text\n",
    "date        = soup.find_all('span', dir = 'auto')[2].text\n",
    "subscribers = soup.find('yt-formatted-string', id = 'owner-sub-count').text\n",
    "description = soup.find('span', class_ = 'yt-core-attributed-string--link-inherit-color').text\n",
    "    \n",
    "#     break\n",
    "\n",
    "data.append([title, views, date, subscribers, description])"
   ]
  },
  {
   "cell_type": "code",
   "execution_count": 31,
   "id": "7ccc82b1",
   "metadata": {},
   "outputs": [
    {
     "data": {
      "text/plain": [
       "[['Data Lake 60 Seconds Crash Course ',\n",
       "  '556 views',\n",
       "  '4 days ago',\n",
       "  '659K subscribers',\n",
       "  \"Looking for a quick Crash Course on Data Lake! You're in the right place! 👍 \\nIn a nutshell, a Data Lake is your go-to solution for managing large, diverse data sets and extracting valuable knowledge from them. With this crash course, you've got the basics down! For a de\"]]"
      ]
     },
     "execution_count": 31,
     "metadata": {},
     "output_type": "execute_result"
    }
   ],
   "source": [
    "data"
   ]
  },
  {
   "cell_type": "code",
   "execution_count": null,
   "id": "b1647813",
   "metadata": {},
   "outputs": [],
   "source": []
  }
 ],
 "metadata": {
  "kernelspec": {
   "display_name": "Python 3 (ipykernel)",
   "language": "python",
   "name": "python3"
  },
  "language_info": {
   "codemirror_mode": {
    "name": "ipython",
    "version": 3
   },
   "file_extension": ".py",
   "mimetype": "text/x-python",
   "name": "python",
   "nbconvert_exporter": "python",
   "pygments_lexer": "ipython3",
   "version": "3.9.7"
  }
 },
 "nbformat": 4,
 "nbformat_minor": 5
}
