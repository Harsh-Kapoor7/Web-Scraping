{
 "cells": [
  {
   "cell_type": "code",
   "execution_count": 1,
   "id": "f87beb82",
   "metadata": {},
   "outputs": [
    {
     "data": {
      "text/html": [
       "<div>\n",
       "<style scoped>\n",
       "    .dataframe tbody tr th:only-of-type {\n",
       "        vertical-align: middle;\n",
       "    }\n",
       "\n",
       "    .dataframe tbody tr th {\n",
       "        vertical-align: top;\n",
       "    }\n",
       "\n",
       "    .dataframe thead th {\n",
       "        text-align: right;\n",
       "    }\n",
       "</style>\n",
       "<table border=\"1\" class=\"dataframe\">\n",
       "  <thead>\n",
       "    <tr style=\"text-align: right;\">\n",
       "      <th></th>\n",
       "      <th>Link</th>\n",
       "      <th>Tags</th>\n",
       "      <th>Likes</th>\n",
       "      <th>Comments</th>\n",
       "    </tr>\n",
       "  </thead>\n",
       "  <tbody>\n",
       "    <tr>\n",
       "      <th>0</th>\n",
       "      <td>https://cdn.pixabay.com/photo/2022/03/06/05/30...</td>\n",
       "      <td>Clouds, Sky, Atmosphere, Blue Sky</td>\n",
       "      <td>196</td>\n",
       "      <td>55</td>\n",
       "    </tr>\n",
       "    <tr>\n",
       "      <th>1</th>\n",
       "      <td>https://cdn.pixabay.com/photo/2022/04/07/11/45...</td>\n",
       "      <td>Bird, Ornithology, Hummingbird</td>\n",
       "      <td>76</td>\n",
       "      <td>20</td>\n",
       "    </tr>\n",
       "    <tr>\n",
       "      <th>2</th>\n",
       "      <td>https://cdn.pixabay.com/photo/2022/02/28/15/28...</td>\n",
       "      <td>Sea, Rainbow, Rainfall, Subtropical</td>\n",
       "      <td>282</td>\n",
       "      <td>106</td>\n",
       "    </tr>\n",
       "    <tr>\n",
       "      <th>3</th>\n",
       "      <td>https://cdn.pixabay.com/photo/2022/04/04/02/52...</td>\n",
       "      <td>Cherry Blossoms, Road, Japan, Sakura</td>\n",
       "      <td>42</td>\n",
       "      <td>11</td>\n",
       "    </tr>\n",
       "    <tr>\n",
       "      <th>4</th>\n",
       "      <td>https://cdn.pixabay.com/photo/2022/04/09/18/06...</td>\n",
       "      <td>Cape Marguerite, Flower, Plant</td>\n",
       "      <td>39</td>\n",
       "      <td>15</td>\n",
       "    </tr>\n",
       "  </tbody>\n",
       "</table>\n",
       "</div>"
      ],
      "text/plain": [
       "                                                Link  \\\n",
       "0  https://cdn.pixabay.com/photo/2022/03/06/05/30...   \n",
       "1  https://cdn.pixabay.com/photo/2022/04/07/11/45...   \n",
       "2  https://cdn.pixabay.com/photo/2022/02/28/15/28...   \n",
       "3  https://cdn.pixabay.com/photo/2022/04/04/02/52...   \n",
       "4  https://cdn.pixabay.com/photo/2022/04/09/18/06...   \n",
       "\n",
       "                                   Tags  Likes  Comments  \n",
       "0     Clouds, Sky, Atmosphere, Blue Sky    196        55  \n",
       "1        Bird, Ornithology, Hummingbird     76        20  \n",
       "2   Sea, Rainbow, Rainfall, Subtropical    282       106  \n",
       "3  Cherry Blossoms, Road, Japan, Sakura     42        11  \n",
       "4        Cape Marguerite, Flower, Plant     39        15  "
      ]
     },
     "execution_count": 1,
     "metadata": {},
     "output_type": "execute_result"
    }
   ],
   "source": [
    "import pandas as pd\n",
    "import requests\n",
    "from tqdm import tqdm\n",
    "\n",
    "df = pd.read_csv('img_data.csv')\n",
    "df.head()"
   ]
  },
  {
   "cell_type": "code",
   "execution_count": 5,
   "id": "c54cdd0a",
   "metadata": {},
   "outputs": [],
   "source": [
    "link = df['Link']"
   ]
  },
  {
   "cell_type": "markdown",
   "id": "92c79007",
   "metadata": {},
   "source": [
    "## Downloading Image"
   ]
  },
  {
   "cell_type": "code",
   "execution_count": 24,
   "id": "7206a01d",
   "metadata": {},
   "outputs": [],
   "source": [
    "path = []\n",
    "\n",
    "for link in tqdm(df['Link']):\n",
    "    res = requests.get(link)\n",
    "    \n",
    "    fd = open('Imgs/' + link.split('/')[-1], 'wb')\n",
    "    fd.write(res.content)\n",
    "    fd.close()\n",
    "\n",
    "    path.append('Imgs/' + link.split('/')[-1])"
   ]
  },
  {
   "cell_type": "code",
   "execution_count": 32,
   "id": "45facfe8",
   "metadata": {},
   "outputs": [
    {
     "data": {
      "text/html": [
       "<div>\n",
       "<style scoped>\n",
       "    .dataframe tbody tr th:only-of-type {\n",
       "        vertical-align: middle;\n",
       "    }\n",
       "\n",
       "    .dataframe tbody tr th {\n",
       "        vertical-align: top;\n",
       "    }\n",
       "\n",
       "    .dataframe thead th {\n",
       "        text-align: right;\n",
       "    }\n",
       "</style>\n",
       "<table border=\"1\" class=\"dataframe\">\n",
       "  <thead>\n",
       "    <tr style=\"text-align: right;\">\n",
       "      <th></th>\n",
       "      <th>Link</th>\n",
       "      <th>Tags</th>\n",
       "      <th>Likes</th>\n",
       "      <th>Comments</th>\n",
       "      <th>Path</th>\n",
       "    </tr>\n",
       "  </thead>\n",
       "  <tbody>\n",
       "    <tr>\n",
       "      <th>0</th>\n",
       "      <td>https://cdn.pixabay.com/photo/2022/03/06/05/30...</td>\n",
       "      <td>Clouds, Sky, Atmosphere, Blue Sky</td>\n",
       "      <td>196</td>\n",
       "      <td>55</td>\n",
       "      <td>Imgs/clouds-7050884__480.jpg</td>\n",
       "    </tr>\n",
       "    <tr>\n",
       "      <th>1</th>\n",
       "      <td>https://cdn.pixabay.com/photo/2022/04/07/11/45...</td>\n",
       "      <td>Bird, Ornithology, Hummingbird</td>\n",
       "      <td>76</td>\n",
       "      <td>20</td>\n",
       "      <td>Imgs/bird-7117346__340.jpg</td>\n",
       "    </tr>\n",
       "    <tr>\n",
       "      <th>2</th>\n",
       "      <td>https://cdn.pixabay.com/photo/2022/02/28/15/28...</td>\n",
       "      <td>Sea, Rainbow, Rainfall, Subtropical</td>\n",
       "      <td>282</td>\n",
       "      <td>106</td>\n",
       "      <td>Imgs/sea-7039471__340.jpg</td>\n",
       "    </tr>\n",
       "    <tr>\n",
       "      <th>3</th>\n",
       "      <td>https://cdn.pixabay.com/photo/2022/04/04/02/52...</td>\n",
       "      <td>Cherry Blossoms, Road, Japan, Sakura</td>\n",
       "      <td>42</td>\n",
       "      <td>11</td>\n",
       "      <td>Imgs/cherry-blossoms-7110279__340.jpg</td>\n",
       "    </tr>\n",
       "    <tr>\n",
       "      <th>4</th>\n",
       "      <td>https://cdn.pixabay.com/photo/2022/04/09/18/06...</td>\n",
       "      <td>Cape Marguerite, Flower, Plant</td>\n",
       "      <td>39</td>\n",
       "      <td>15</td>\n",
       "      <td>Imgs/cape-marguerite-7121992__340.jpg</td>\n",
       "    </tr>\n",
       "  </tbody>\n",
       "</table>\n",
       "</div>"
      ],
      "text/plain": [
       "                                                Link  \\\n",
       "0  https://cdn.pixabay.com/photo/2022/03/06/05/30...   \n",
       "1  https://cdn.pixabay.com/photo/2022/04/07/11/45...   \n",
       "2  https://cdn.pixabay.com/photo/2022/02/28/15/28...   \n",
       "3  https://cdn.pixabay.com/photo/2022/04/04/02/52...   \n",
       "4  https://cdn.pixabay.com/photo/2022/04/09/18/06...   \n",
       "\n",
       "                                   Tags  Likes  Comments  \\\n",
       "0     Clouds, Sky, Atmosphere, Blue Sky    196        55   \n",
       "1        Bird, Ornithology, Hummingbird     76        20   \n",
       "2   Sea, Rainbow, Rainfall, Subtropical    282       106   \n",
       "3  Cherry Blossoms, Road, Japan, Sakura     42        11   \n",
       "4        Cape Marguerite, Flower, Plant     39        15   \n",
       "\n",
       "                                    Path  \n",
       "0           Imgs/clouds-7050884__480.jpg  \n",
       "1             Imgs/bird-7117346__340.jpg  \n",
       "2              Imgs/sea-7039471__340.jpg  \n",
       "3  Imgs/cherry-blossoms-7110279__340.jpg  \n",
       "4  Imgs/cape-marguerite-7121992__340.jpg  "
      ]
     },
     "execution_count": 32,
     "metadata": {},
     "output_type": "execute_result"
    }
   ],
   "source": [
    "df['Path'] = path\n",
    "\n",
    "df.head()"
   ]
  },
  {
   "cell_type": "code",
   "execution_count": 33,
   "id": "e91bdcc8",
   "metadata": {},
   "outputs": [],
   "source": [
    "df.to_csv('Imgs.csv', index = False)"
   ]
  },
  {
   "cell_type": "code",
   "execution_count": null,
   "id": "ab681a5a",
   "metadata": {},
   "outputs": [],
   "source": []
  },
  {
   "cell_type": "code",
   "execution_count": null,
   "id": "baa943b3",
   "metadata": {},
   "outputs": [],
   "source": []
  }
 ],
 "metadata": {
  "kernelspec": {
   "display_name": "Python 3 (ipykernel)",
   "language": "python",
   "name": "python3"
  },
  "language_info": {
   "codemirror_mode": {
    "name": "ipython",
    "version": 3
   },
   "file_extension": ".py",
   "mimetype": "text/x-python",
   "name": "python",
   "nbconvert_exporter": "python",
   "pygments_lexer": "ipython3",
   "version": "3.9.7"
  }
 },
 "nbformat": 4,
 "nbformat_minor": 5
}
