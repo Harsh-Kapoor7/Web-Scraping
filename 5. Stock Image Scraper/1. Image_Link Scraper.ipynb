{
 "cells": [
  {
   "cell_type": "code",
   "execution_count": 15,
   "id": "06b43901",
   "metadata": {},
   "outputs": [],
   "source": [
    "import requests\n",
    "import pandas as pd\n",
    "import chromedriver_binary\n",
    "\n",
    "from selenium import webdriver\n",
    "from bs4 import BeautifulSoup\n",
    "\n",
    "link = 'https://stock-pictures.netlify.app'"
   ]
  },
  {
   "cell_type": "code",
   "execution_count": 16,
   "id": "e5256839",
   "metadata": {},
   "outputs": [
    {
     "name": "stderr",
     "output_type": "stream",
     "text": [
      "C:\\Users\\HARSHK~1\\AppData\\Local\\Temp/ipykernel_17940/2047967234.py:1: DeprecationWarning: executable_path has been deprecated, please pass in a Service object\n",
      "  driver = webdriver.Chrome(chromedriver_binary.chromedriver_filename)\n"
     ]
    }
   ],
   "source": [
    "driver = webdriver.Chrome(chromedriver_binary.chromedriver_filename)"
   ]
  },
  {
   "cell_type": "code",
   "execution_count": 17,
   "id": "26c3db9c",
   "metadata": {},
   "outputs": [],
   "source": [
    "driver.get(link)"
   ]
  },
  {
   "cell_type": "code",
   "execution_count": 18,
   "id": "bc195ca2",
   "metadata": {},
   "outputs": [],
   "source": [
    "soup = BeautifulSoup(driver.page_source, 'html.parser')"
   ]
  },
  {
   "cell_type": "code",
   "execution_count": 30,
   "id": "0542837c",
   "metadata": {},
   "outputs": [
    {
     "data": {
      "text/plain": [
       "<div class=\"container\"><div class=\"image-container\"><img alt=\"src\" class=\"source-img\" src=\"https://cdn.pixabay.com/photo/2022/03/06/05/30/clouds-7050884__480.jpg\"/></div><div class=\"tags\"><span class=\"tag-color\">Tags - Clouds, Sky, Atmosphere, Blue Sky</span></div><div class=\"likes-comments\"><span>196 Likes</span><span>55 Comments </span></div></div>"
      ]
     },
     "execution_count": 30,
     "metadata": {},
     "output_type": "execute_result"
    }
   ],
   "source": [
    "soup.find('div', class_ = 'container')"
   ]
  },
  {
   "cell_type": "code",
   "execution_count": 41,
   "id": "3df0053e",
   "metadata": {},
   "outputs": [],
   "source": [
    "img_link       = soup.find('img', class_ = 'source-img').get('src')\n",
    "likes_comments = soup.find('div', class_ = 'likes-comments').text"
   ]
  },
  {
   "cell_type": "code",
   "execution_count": 87,
   "id": "a229afe8",
   "metadata": {},
   "outputs": [],
   "source": [
    "data = []\n",
    "\n",
    "for sp in soup.find_all('div', class_ = 'container'):\n",
    "\n",
    "    if('gif' not in sp.find('img').get('src')):\n",
    "        \n",
    "        link     = sp.find('img').get('src')\n",
    "        tags     = sp.find('div', class_ = 'tags').text[7:]\n",
    "        likes    = sp.find('div', class_ = 'likes-comments').find_all('span')[0].text[:-6]\n",
    "        comments = sp.find('div', class_ = 'likes-comments').find_all('span')[1].text[:-9]\n",
    "        \n",
    "        data.append([link, tags, likes, comments])"
   ]
  },
  {
   "cell_type": "code",
   "execution_count": 88,
   "id": "2750ed81",
   "metadata": {},
   "outputs": [
    {
     "data": {
      "text/plain": [
       "[['https://cdn.pixabay.com/photo/2022/03/06/05/30/clouds-7050884__480.jpg',\n",
       "  'Clouds, Sky, Atmosphere, Blue Sky',\n",
       "  '196',\n",
       "  '55 '],\n",
       " ['https://cdn.pixabay.com/photo/2022/04/07/11/45/bird-7117346__340.jpg',\n",
       "  'Bird, Ornithology, Hummingbird',\n",
       "  '76',\n",
       "  '20 '],\n",
       " ['https://cdn.pixabay.com/photo/2022/02/28/15/28/sea-7039471__340.jpg',\n",
       "  'Sea, Rainbow, Rainfall, Subtropical',\n",
       "  '282',\n",
       "  '106 '],\n",
       " ['https://cdn.pixabay.com/photo/2022/04/04/02/52/cherry-blossoms-7110279__340.jpg',\n",
       "  'Cherry Blossoms, Road, Japan, Sakura',\n",
       "  '42',\n",
       "  '11 '],\n",
       " ['https://cdn.pixabay.com/photo/2022/04/09/18/06/cape-marguerite-7121992__340.jpg',\n",
       "  'Cape Marguerite, Flower, Plant',\n",
       "  '39',\n",
       "  '15 '],\n",
       " ['https://cdn.pixabay.com/photo/2021/11/13/23/06/tree-6792528__340.jpg',\n",
       "  'Relaxing Rest Under The Tree',\n",
       "  '522',\n",
       "  '108 '],\n",
       " ['https://cdn.pixabay.com/photo/2022/04/07/02/56/cottontail-rabbit-7116707__340.jpg',\n",
       "  'Cottontail Rabbit, Wild Rabbit, Grass',\n",
       "  '51',\n",
       "  '10 '],\n",
       " ['https://cdn.pixabay.com/photo/2022/03/19/21/11/crocus-7079550__340.jpg',\n",
       "  'Crocus, Flowers, Spring, Plant',\n",
       "  '135',\n",
       "  '44 '],\n",
       " ['https://cdn.pixabay.com/photo/2022/04/09/17/30/coffee-7121939__340.jpg',\n",
       "  'Coffee, Café, Vacation, Drink, Table',\n",
       "  '26',\n",
       "  '5 '],\n",
       " ['https://cdn.pixabay.com/photo/2022/03/25/19/24/waterfall-7091641__340.jpg',\n",
       "  'Waterfall, Fall, Epic, Nature, Light',\n",
       "  '96',\n",
       "  '21 '],\n",
       " ['https://cdn.pixabay.com/photo/2021/08/25/20/42/field-6574455__340.jpg',\n",
       "  'Field, Morning, Sunrise, Dawn, Nature',\n",
       "  '807',\n",
       "  '131 '],\n",
       " ['https://cdn.pixabay.com/photo/2022/04/04/18/03/bird-7111988__340.jpg',\n",
       "  'Bird, Robin, Birdwatching, Animal',\n",
       "  '69',\n",
       "  '19 '],\n",
       " ['https://cdn.pixabay.com/photo/2022/04/04/07/58/seedlings-7110591__340.jpg',\n",
       "  'Seedlings, Soil, Spring Flowers, Bloom',\n",
       "  '42',\n",
       "  '9 '],\n",
       " ['https://cdn.pixabay.com/photo/2022/03/23/21/27/road-7087957__340.jpg',\n",
       "  'Road, Highway, Countryside, Hills',\n",
       "  '53',\n",
       "  '14 '],\n",
       " ['https://cdn.pixabay.com/photo/2022/03/27/15/03/cityscape-7095358__340.jpg',\n",
       "  'Cityscape, Monochrome, Bridge, City',\n",
       "  '45',\n",
       "  '13 '],\n",
       " ['https://cdn.pixabay.com/photo/2022/03/25/17/54/sakura-7091532__340.jpg',\n",
       "  'Sakura, Cherry Blossoms, Spring, Water',\n",
       "  '70',\n",
       "  '12 '],\n",
       " ['https://cdn.pixabay.com/photo/2022/04/01/19/03/background-7105471__480.jpg',\n",
       "  'Background, Easter, Eggs, Template, Art',\n",
       "  '5',\n",
       "  '2 '],\n",
       " ['https://cdn.pixabay.com/photo/2022/01/31/12/46/bird-6983434__340.jpg',\n",
       "  'Bird, Indian Chat, Ornithology, Species',\n",
       "  '171',\n",
       "  '53 '],\n",
       " ['https://cdn.pixabay.com/photo/2022/01/18/16/49/town-6947538__340.jpg',\n",
       "  'Town, Night, Winter, Village, Season',\n",
       "  '109',\n",
       "  '15 '],\n",
       " ['https://cdn.pixabay.com/photo/2022/04/09/17/42/flower-7121955__340.jpg',\n",
       "  'Flower, Viola, Pansy, Blossom, Bloom',\n",
       "  '55',\n",
       "  '36 '],\n",
       " ['https://cdn.pixabay.com/photo/2021/08/30/21/29/port-6587129__340.jpg',\n",
       "  'Port, Lake, Architecture, Vacations',\n",
       "  '276',\n",
       "  '49 '],\n",
       " ['https://cdn.pixabay.com/photo/2022/03/16/02/03/sunflowers-7071449__340.jpg',\n",
       "  'Sunflowers, Flowers, Plant',\n",
       "  '54',\n",
       "  '21 '],\n",
       " ['https://cdn.pixabay.com/photo/2022/03/28/18/41/coffee-7098126__340.jpg',\n",
       "  'Coffee, Spring, Flowers, Morning',\n",
       "  '40',\n",
       "  '10 '],\n",
       " ['https://cdn.pixabay.com/photo/2022/02/12/06/21/roys-peak-7008528__340.jpg',\n",
       "  'Roys Peak, Wanaka, Lake, Mountains',\n",
       "  '69',\n",
       "  '19 '],\n",
       " ['https://cdn.pixabay.com/photo/2021/11/21/21/14/mountain-6815304__340.jpg',\n",
       "  'Thank you, everyone. Thank you for many downloads and likes.',\n",
       "  '197',\n",
       "  '0 '],\n",
       " ['https://cdn.pixabay.com/photo/2021/08/22/15/48/nature-6565499__340.jpg',\n",
       "  'Nature, Beach, Outdoors, Exploration',\n",
       "  '272',\n",
       "  '150 '],\n",
       " ['https://cdn.pixabay.com/photo/2022/03/03/11/18/nature-7045125__340.jpg',\n",
       "  'The Danish West Coast of Jutland. Shot during sunset.',\n",
       "  '48',\n",
       "  '11 '],\n",
       " ['https://cdn.pixabay.com/photo/2022/03/16/21/01/gentoo-penguin-7073391__340.jpg',\n",
       "  'Gentoo Penguin, Penguin, Bird, Animal',\n",
       "  '93',\n",
       "  '22 '],\n",
       " ['https://cdn.pixabay.com/photo/2021/11/26/20/45/lantern-6826698__340.jpg',\n",
       "  'Lantern, Sea, Heaven, Beach, Water, Tree',\n",
       "  '243',\n",
       "  '31 '],\n",
       " ['https://cdn.pixabay.com/photo/2022/04/03/05/03/easter-7108066__340.jpg',\n",
       "  'Easter, Spring, Easter Bunny',\n",
       "  '17',\n",
       "  '10 '],\n",
       " ['https://cdn.pixabay.com/photo/2018/01/14/23/12/nature-3082832__340.jpg',\n",
       "  'green trees on brown rock formation on lake during daytime',\n",
       "  '3098',\n",
       "  '495 '],\n",
       " ['https://cdn.pixabay.com/photo/2022/02/27/19/46/tourist-attraction-7037967__340.jpg',\n",
       "  'Tourist Attraction, Eiffel Tower, Travel',\n",
       "  '83',\n",
       "  '21 '],\n",
       " ['https://cdn.pixabay.com/photo/2022/04/07/22/23/menhir-7118382__480.jpg',\n",
       "  'Menhir, Stones, Clouds, Standing Stones',\n",
       "  '64',\n",
       "  '49 '],\n",
       " ['https://cdn.pixabay.com/photo/2022/01/13/18/05/road-6935773__340.jpg',\n",
       "  'Road, Trees, Winter, Frost, Snow, Path',\n",
       "  '133',\n",
       "  '24 '],\n",
       " ['https://cdn.pixabay.com/photo/2022/04/10/07/03/bird-7122753__340.jpg',\n",
       "  'Bird, Woodpecker',\n",
       "  '28',\n",
       "  '20 '],\n",
       " ['https://cdn.pixabay.com/photo/2021/11/25/19/50/tape-6824489__340.jpg',\n",
       "  'Tape, Cassette, Music, Retro, Classic',\n",
       "  '134',\n",
       "  '20 '],\n",
       " ['https://cdn.pixabay.com/photo/2022/01/10/15/29/wind-mills-6928590__340.jpg',\n",
       "  'Wind Mills, Energy, Clouds, Power',\n",
       "  '144',\n",
       "  '101 '],\n",
       " ['https://cdn.pixabay.com/photo/2022/02/15/07/27/travel-7014427__340.jpg',\n",
       "  'Travel, Tourism, Square, Tartini, Piran',\n",
       "  '70',\n",
       "  '19 '],\n",
       " ['https://cdn.pixabay.com/photo/2022/04/11/04/33/easter-eggs-7124718__340.jpg',\n",
       "  'Easter Eggs, Colored Eggs, Nest, Eggs',\n",
       "  '29',\n",
       "  '0 '],\n",
       " ['https://cdn.pixabay.com/photo/2022/02/07/22/27/winter-7000429__340.jpg',\n",
       "  'Winter, Season, Nature, Outdoors, Travel',\n",
       "  '111',\n",
       "  '24 '],\n",
       " ['https://cdn.pixabay.com/photo/2022/04/11/09/40/glacier-7125386__340.jpg',\n",
       "  'Glacier, Dying Glaciers, Melting Glacier',\n",
       "  '36',\n",
       "  '27 '],\n",
       " ['https://cdn.pixabay.com/photo/2021/11/01/21/31/forest-6761846__340.jpg',\n",
       "  'Forest, Jungle, Tropical, Green, Nature',\n",
       "  '135',\n",
       "  '22 '],\n",
       " ['https://cdn.pixabay.com/photo/2022/02/05/08/13/tulip-6994245__340.jpg',\n",
       "  'Tulip, Flower, Bloom, Blossom, Petals',\n",
       "  '92',\n",
       "  '35 '],\n",
       " ['https://cdn.pixabay.com/photo/2022/04/07/13/06/flowers-7117461__340.jpg',\n",
       "  'Flowers, Pink Flowers, Petals',\n",
       "  '62',\n",
       "  '0 '],\n",
       " ['https://cdn.pixabay.com/photo/2022/02/22/03/22/passiflora-7027917__340.jpg',\n",
       "  'Passiflora, Passion Flower, Flower',\n",
       "  '97',\n",
       "  '66 '],\n",
       " ['https://cdn.pixabay.com/photo/2021/11/02/21/57/prayer-6764197__340.jpg',\n",
       "  'Prayer, Faith, Religion, Hope, Blessing',\n",
       "  '175',\n",
       "  '57 '],\n",
       " ['https://cdn.pixabay.com/photo/2022/04/09/10/13/galaxy-7121195__340.jpg',\n",
       "  'Galaxy, Space, Universe, Star, Cosmos',\n",
       "  '45',\n",
       "  '40 '],\n",
       " ['https://cdn.pixabay.com/photo/2022/03/31/09/25/dragonfly-7102558__480.jpg',\n",
       "  'Dragonfly, Nature, Insect, Macro',\n",
       "  '19',\n",
       "  '3 ']]"
      ]
     },
     "execution_count": 88,
     "metadata": {},
     "output_type": "execute_result"
    }
   ],
   "source": [
    "data"
   ]
  },
  {
   "cell_type": "code",
   "execution_count": 98,
   "id": "6e62ca57",
   "metadata": {},
   "outputs": [
    {
     "data": {
      "text/html": [
       "<div>\n",
       "<style scoped>\n",
       "    .dataframe tbody tr th:only-of-type {\n",
       "        vertical-align: middle;\n",
       "    }\n",
       "\n",
       "    .dataframe tbody tr th {\n",
       "        vertical-align: top;\n",
       "    }\n",
       "\n",
       "    .dataframe thead th {\n",
       "        text-align: right;\n",
       "    }\n",
       "</style>\n",
       "<table border=\"1\" class=\"dataframe\">\n",
       "  <thead>\n",
       "    <tr style=\"text-align: right;\">\n",
       "      <th></th>\n",
       "      <th>Link</th>\n",
       "      <th>Tags</th>\n",
       "      <th>Likes</th>\n",
       "      <th>Comments</th>\n",
       "    </tr>\n",
       "  </thead>\n",
       "  <tbody>\n",
       "    <tr>\n",
       "      <th>0</th>\n",
       "      <td>https://cdn.pixabay.com/photo/2022/03/06/05/30...</td>\n",
       "      <td>Clouds, Sky, Atmosphere, Blue Sky</td>\n",
       "      <td>196</td>\n",
       "      <td>55</td>\n",
       "    </tr>\n",
       "    <tr>\n",
       "      <th>1</th>\n",
       "      <td>https://cdn.pixabay.com/photo/2022/04/07/11/45...</td>\n",
       "      <td>Bird, Ornithology, Hummingbird</td>\n",
       "      <td>76</td>\n",
       "      <td>20</td>\n",
       "    </tr>\n",
       "    <tr>\n",
       "      <th>2</th>\n",
       "      <td>https://cdn.pixabay.com/photo/2022/02/28/15/28...</td>\n",
       "      <td>Sea, Rainbow, Rainfall, Subtropical</td>\n",
       "      <td>282</td>\n",
       "      <td>106</td>\n",
       "    </tr>\n",
       "    <tr>\n",
       "      <th>3</th>\n",
       "      <td>https://cdn.pixabay.com/photo/2022/04/04/02/52...</td>\n",
       "      <td>Cherry Blossoms, Road, Japan, Sakura</td>\n",
       "      <td>42</td>\n",
       "      <td>11</td>\n",
       "    </tr>\n",
       "    <tr>\n",
       "      <th>4</th>\n",
       "      <td>https://cdn.pixabay.com/photo/2022/04/09/18/06...</td>\n",
       "      <td>Cape Marguerite, Flower, Plant</td>\n",
       "      <td>39</td>\n",
       "      <td>15</td>\n",
       "    </tr>\n",
       "  </tbody>\n",
       "</table>\n",
       "</div>"
      ],
      "text/plain": [
       "                                                Link  \\\n",
       "0  https://cdn.pixabay.com/photo/2022/03/06/05/30...   \n",
       "1  https://cdn.pixabay.com/photo/2022/04/07/11/45...   \n",
       "2  https://cdn.pixabay.com/photo/2022/02/28/15/28...   \n",
       "3  https://cdn.pixabay.com/photo/2022/04/04/02/52...   \n",
       "4  https://cdn.pixabay.com/photo/2022/04/09/18/06...   \n",
       "\n",
       "                                   Tags Likes Comments  \n",
       "0     Clouds, Sky, Atmosphere, Blue Sky   196      55   \n",
       "1        Bird, Ornithology, Hummingbird    76      20   \n",
       "2   Sea, Rainbow, Rainfall, Subtropical   282     106   \n",
       "3  Cherry Blossoms, Road, Japan, Sakura    42      11   \n",
       "4        Cape Marguerite, Flower, Plant    39      15   "
      ]
     },
     "execution_count": 98,
     "metadata": {},
     "output_type": "execute_result"
    }
   ],
   "source": [
    "df = pd.DataFrame(data, columns = ['Link', 'Tags', 'Likes', 'Comments'])\n",
    "df.to_csv('img_data.csv', index = False)\n",
    "\n",
    "df.head()"
   ]
  },
  {
   "cell_type": "code",
   "execution_count": 90,
   "id": "be31bcf5",
   "metadata": {},
   "outputs": [
    {
     "data": {
      "text/plain": [
       "Link        0\n",
       "Tags        0\n",
       "Likes       0\n",
       "Comments    0\n",
       "dtype: int64"
      ]
     },
     "execution_count": 90,
     "metadata": {},
     "output_type": "execute_result"
    }
   ],
   "source": [
    "df.isnull().sum()"
   ]
  },
  {
   "cell_type": "code",
   "execution_count": null,
   "id": "b7162e14",
   "metadata": {},
   "outputs": [],
   "source": []
  },
  {
   "cell_type": "code",
   "execution_count": null,
   "id": "70957356",
   "metadata": {},
   "outputs": [],
   "source": []
  }
 ],
 "metadata": {
  "kernelspec": {
   "display_name": "Python 3 (ipykernel)",
   "language": "python",
   "name": "python3"
  },
  "language_info": {
   "codemirror_mode": {
    "name": "ipython",
    "version": 3
   },
   "file_extension": ".py",
   "mimetype": "text/x-python",
   "name": "python",
   "nbconvert_exporter": "python",
   "pygments_lexer": "ipython3",
   "version": "3.9.7"
  }
 },
 "nbformat": 4,
 "nbformat_minor": 5
}
